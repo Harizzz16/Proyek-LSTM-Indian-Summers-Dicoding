{
  "cells": [
    {
      "cell_type": "code",
      "execution_count": null,
      "metadata": {
        "id": "6mG1ShyHfsKk"
      },
      "outputs": [],
      "source": [
        " #Haris Amaldi\n",
        " #Dilarang keras mengcopy kode ini! PLAGIARISME ITU HARAM!"
      ]
    },
    {
      "cell_type": "code",
      "execution_count": null,
      "metadata": {
        "id": "3PrqJ_tKmxov"
      },
      "outputs": [],
      "source": [
        "import numpy as np\n",
        "import pandas as pd\n",
        "from keras.layers import Dense, LSTM\n",
        "import matplotlib.pyplot as plt\n",
        "import tensorflow as tf\n",
        "from tensorflow.keras.models import Sequential\n",
        "from tensorflow.keras.layers import LSTM,Dense,Bidirectional,Dropout"
      ]
    },
    {
      "cell_type": "code",
      "execution_count": null,
      "metadata": {
        "colab": {
          "base_uri": "https://localhost:8080/",
          "height": 469
        },
        "id": "Tg0LXu5V14fJ",
        "outputId": "3e640bd0-4a4c-4fdc-d36e-71cff5ac17be"
      },
      "outputs": [
        {
          "output_type": "execute_result",
          "data": {
            "text/plain": [
              "        City        Date  tempmax  tempmin  temp  feelslikemax  feelslikemin  \\\n",
              "0  New Delhi  2021-04-01     34.0     19.0  27.1          31.6          19.0   \n",
              "1  New Delhi  2021-04-02     33.9     16.0  25.8          31.8          16.0   \n",
              "2  New Delhi  2021-04-03     34.8     14.6  26.0          32.2          14.6   \n",
              "3  New Delhi  2021-04-04     36.8     16.9  27.1          34.2          16.9   \n",
              "4  New Delhi  2021-04-05     38.8     21.0  29.9          37.1          21.0   \n",
              "\n",
              "   feelslike  dew  humidity  windspeed  winddir  sealevelpressure  cloudcover  \\\n",
              "0       26.1  3.1     22.60       22.8    272.9            1002.8         0.0   \n",
              "1       24.9  4.5     27.62       12.4    275.0            1006.2         0.0   \n",
              "2       25.1  1.3     23.18       16.5    127.5            1008.8         1.4   \n",
              "3       26.0  4.8     28.00       18.3    157.6            1009.5         2.6   \n",
              "4       28.9  8.1     28.85       13.5    100.4            1007.8        38.4   \n",
              "\n",
              "   visibility              sunrise               sunset  moonphase  \\\n",
              "0         3.1  2021-04-01 06:11:12  2021-04-01 18:39:13       0.60   \n",
              "1         3.5  2021-04-02 06:10:04  2021-04-02 18:39:46       0.65   \n",
              "2         3.5  2021-04-03 06:08:55  2021-04-03 18:40:19       0.70   \n",
              "3         3.2  2021-04-04 06:07:47  2021-04-04 18:40:53       0.76   \n",
              "4         3.1  2021-04-05 06:06:39  2021-04-05 18:41:26       0.81   \n",
              "\n",
              "         conditions                           description  \n",
              "0             Clear  Clear conditions throughout the day.  \n",
              "1             Clear  Clear conditions throughout the day.  \n",
              "2             Clear  Clear conditions throughout the day.  \n",
              "3             Clear  Clear conditions throughout the day.  \n",
              "4  Partially cloudy     Partly cloudy throughout the day.  "
            ],
            "text/html": [
              "\n",
              "  <div id=\"df-1f621946-be16-4685-8dee-2d94ec6016c1\" class=\"colab-df-container\">\n",
              "    <div>\n",
              "<style scoped>\n",
              "    .dataframe tbody tr th:only-of-type {\n",
              "        vertical-align: middle;\n",
              "    }\n",
              "\n",
              "    .dataframe tbody tr th {\n",
              "        vertical-align: top;\n",
              "    }\n",
              "\n",
              "    .dataframe thead th {\n",
              "        text-align: right;\n",
              "    }\n",
              "</style>\n",
              "<table border=\"1\" class=\"dataframe\">\n",
              "  <thead>\n",
              "    <tr style=\"text-align: right;\">\n",
              "      <th></th>\n",
              "      <th>City</th>\n",
              "      <th>Date</th>\n",
              "      <th>tempmax</th>\n",
              "      <th>tempmin</th>\n",
              "      <th>temp</th>\n",
              "      <th>feelslikemax</th>\n",
              "      <th>feelslikemin</th>\n",
              "      <th>feelslike</th>\n",
              "      <th>dew</th>\n",
              "      <th>humidity</th>\n",
              "      <th>windspeed</th>\n",
              "      <th>winddir</th>\n",
              "      <th>sealevelpressure</th>\n",
              "      <th>cloudcover</th>\n",
              "      <th>visibility</th>\n",
              "      <th>sunrise</th>\n",
              "      <th>sunset</th>\n",
              "      <th>moonphase</th>\n",
              "      <th>conditions</th>\n",
              "      <th>description</th>\n",
              "    </tr>\n",
              "  </thead>\n",
              "  <tbody>\n",
              "    <tr>\n",
              "      <th>0</th>\n",
              "      <td>New Delhi</td>\n",
              "      <td>2021-04-01</td>\n",
              "      <td>34.0</td>\n",
              "      <td>19.0</td>\n",
              "      <td>27.1</td>\n",
              "      <td>31.6</td>\n",
              "      <td>19.0</td>\n",
              "      <td>26.1</td>\n",
              "      <td>3.1</td>\n",
              "      <td>22.60</td>\n",
              "      <td>22.8</td>\n",
              "      <td>272.9</td>\n",
              "      <td>1002.8</td>\n",
              "      <td>0.0</td>\n",
              "      <td>3.1</td>\n",
              "      <td>2021-04-01 06:11:12</td>\n",
              "      <td>2021-04-01 18:39:13</td>\n",
              "      <td>0.60</td>\n",
              "      <td>Clear</td>\n",
              "      <td>Clear conditions throughout the day.</td>\n",
              "    </tr>\n",
              "    <tr>\n",
              "      <th>1</th>\n",
              "      <td>New Delhi</td>\n",
              "      <td>2021-04-02</td>\n",
              "      <td>33.9</td>\n",
              "      <td>16.0</td>\n",
              "      <td>25.8</td>\n",
              "      <td>31.8</td>\n",
              "      <td>16.0</td>\n",
              "      <td>24.9</td>\n",
              "      <td>4.5</td>\n",
              "      <td>27.62</td>\n",
              "      <td>12.4</td>\n",
              "      <td>275.0</td>\n",
              "      <td>1006.2</td>\n",
              "      <td>0.0</td>\n",
              "      <td>3.5</td>\n",
              "      <td>2021-04-02 06:10:04</td>\n",
              "      <td>2021-04-02 18:39:46</td>\n",
              "      <td>0.65</td>\n",
              "      <td>Clear</td>\n",
              "      <td>Clear conditions throughout the day.</td>\n",
              "    </tr>\n",
              "    <tr>\n",
              "      <th>2</th>\n",
              "      <td>New Delhi</td>\n",
              "      <td>2021-04-03</td>\n",
              "      <td>34.8</td>\n",
              "      <td>14.6</td>\n",
              "      <td>26.0</td>\n",
              "      <td>32.2</td>\n",
              "      <td>14.6</td>\n",
              "      <td>25.1</td>\n",
              "      <td>1.3</td>\n",
              "      <td>23.18</td>\n",
              "      <td>16.5</td>\n",
              "      <td>127.5</td>\n",
              "      <td>1008.8</td>\n",
              "      <td>1.4</td>\n",
              "      <td>3.5</td>\n",
              "      <td>2021-04-03 06:08:55</td>\n",
              "      <td>2021-04-03 18:40:19</td>\n",
              "      <td>0.70</td>\n",
              "      <td>Clear</td>\n",
              "      <td>Clear conditions throughout the day.</td>\n",
              "    </tr>\n",
              "    <tr>\n",
              "      <th>3</th>\n",
              "      <td>New Delhi</td>\n",
              "      <td>2021-04-04</td>\n",
              "      <td>36.8</td>\n",
              "      <td>16.9</td>\n",
              "      <td>27.1</td>\n",
              "      <td>34.2</td>\n",
              "      <td>16.9</td>\n",
              "      <td>26.0</td>\n",
              "      <td>4.8</td>\n",
              "      <td>28.00</td>\n",
              "      <td>18.3</td>\n",
              "      <td>157.6</td>\n",
              "      <td>1009.5</td>\n",
              "      <td>2.6</td>\n",
              "      <td>3.2</td>\n",
              "      <td>2021-04-04 06:07:47</td>\n",
              "      <td>2021-04-04 18:40:53</td>\n",
              "      <td>0.76</td>\n",
              "      <td>Clear</td>\n",
              "      <td>Clear conditions throughout the day.</td>\n",
              "    </tr>\n",
              "    <tr>\n",
              "      <th>4</th>\n",
              "      <td>New Delhi</td>\n",
              "      <td>2021-04-05</td>\n",
              "      <td>38.8</td>\n",
              "      <td>21.0</td>\n",
              "      <td>29.9</td>\n",
              "      <td>37.1</td>\n",
              "      <td>21.0</td>\n",
              "      <td>28.9</td>\n",
              "      <td>8.1</td>\n",
              "      <td>28.85</td>\n",
              "      <td>13.5</td>\n",
              "      <td>100.4</td>\n",
              "      <td>1007.8</td>\n",
              "      <td>38.4</td>\n",
              "      <td>3.1</td>\n",
              "      <td>2021-04-05 06:06:39</td>\n",
              "      <td>2021-04-05 18:41:26</td>\n",
              "      <td>0.81</td>\n",
              "      <td>Partially cloudy</td>\n",
              "      <td>Partly cloudy throughout the day.</td>\n",
              "    </tr>\n",
              "  </tbody>\n",
              "</table>\n",
              "</div>\n",
              "    <div class=\"colab-df-buttons\">\n",
              "\n",
              "  <div class=\"colab-df-container\">\n",
              "    <button class=\"colab-df-convert\" onclick=\"convertToInteractive('df-1f621946-be16-4685-8dee-2d94ec6016c1')\"\n",
              "            title=\"Convert this dataframe to an interactive table.\"\n",
              "            style=\"display:none;\">\n",
              "\n",
              "  <svg xmlns=\"http://www.w3.org/2000/svg\" height=\"24px\" viewBox=\"0 -960 960 960\">\n",
              "    <path d=\"M120-120v-720h720v720H120Zm60-500h600v-160H180v160Zm220 220h160v-160H400v160Zm0 220h160v-160H400v160ZM180-400h160v-160H180v160Zm440 0h160v-160H620v160ZM180-180h160v-160H180v160Zm440 0h160v-160H620v160Z\"/>\n",
              "  </svg>\n",
              "    </button>\n",
              "\n",
              "  <style>\n",
              "    .colab-df-container {\n",
              "      display:flex;\n",
              "      gap: 12px;\n",
              "    }\n",
              "\n",
              "    .colab-df-convert {\n",
              "      background-color: #E8F0FE;\n",
              "      border: none;\n",
              "      border-radius: 50%;\n",
              "      cursor: pointer;\n",
              "      display: none;\n",
              "      fill: #1967D2;\n",
              "      height: 32px;\n",
              "      padding: 0 0 0 0;\n",
              "      width: 32px;\n",
              "    }\n",
              "\n",
              "    .colab-df-convert:hover {\n",
              "      background-color: #E2EBFA;\n",
              "      box-shadow: 0px 1px 2px rgba(60, 64, 67, 0.3), 0px 1px 3px 1px rgba(60, 64, 67, 0.15);\n",
              "      fill: #174EA6;\n",
              "    }\n",
              "\n",
              "    .colab-df-buttons div {\n",
              "      margin-bottom: 4px;\n",
              "    }\n",
              "\n",
              "    [theme=dark] .colab-df-convert {\n",
              "      background-color: #3B4455;\n",
              "      fill: #D2E3FC;\n",
              "    }\n",
              "\n",
              "    [theme=dark] .colab-df-convert:hover {\n",
              "      background-color: #434B5C;\n",
              "      box-shadow: 0px 1px 3px 1px rgba(0, 0, 0, 0.15);\n",
              "      filter: drop-shadow(0px 1px 2px rgba(0, 0, 0, 0.3));\n",
              "      fill: #FFFFFF;\n",
              "    }\n",
              "  </style>\n",
              "\n",
              "    <script>\n",
              "      const buttonEl =\n",
              "        document.querySelector('#df-1f621946-be16-4685-8dee-2d94ec6016c1 button.colab-df-convert');\n",
              "      buttonEl.style.display =\n",
              "        google.colab.kernel.accessAllowed ? 'block' : 'none';\n",
              "\n",
              "      async function convertToInteractive(key) {\n",
              "        const element = document.querySelector('#df-1f621946-be16-4685-8dee-2d94ec6016c1');\n",
              "        const dataTable =\n",
              "          await google.colab.kernel.invokeFunction('convertToInteractive',\n",
              "                                                    [key], {});\n",
              "        if (!dataTable) return;\n",
              "\n",
              "        const docLinkHtml = 'Like what you see? Visit the ' +\n",
              "          '<a target=\"_blank\" href=https://colab.research.google.com/notebooks/data_table.ipynb>data table notebook</a>'\n",
              "          + ' to learn more about interactive tables.';\n",
              "        element.innerHTML = '';\n",
              "        dataTable['output_type'] = 'display_data';\n",
              "        await google.colab.output.renderOutput(dataTable, element);\n",
              "        const docLink = document.createElement('div');\n",
              "        docLink.innerHTML = docLinkHtml;\n",
              "        element.appendChild(docLink);\n",
              "      }\n",
              "    </script>\n",
              "  </div>\n",
              "\n",
              "\n",
              "<div id=\"df-fc789ff3-754f-420c-b20c-3c1918d48918\">\n",
              "  <button class=\"colab-df-quickchart\" onclick=\"quickchart('df-fc789ff3-754f-420c-b20c-3c1918d48918')\"\n",
              "            title=\"Suggest charts\"\n",
              "            style=\"display:none;\">\n",
              "\n",
              "<svg xmlns=\"http://www.w3.org/2000/svg\" height=\"24px\"viewBox=\"0 0 24 24\"\n",
              "     width=\"24px\">\n",
              "    <g>\n",
              "        <path d=\"M19 3H5c-1.1 0-2 .9-2 2v14c0 1.1.9 2 2 2h14c1.1 0 2-.9 2-2V5c0-1.1-.9-2-2-2zM9 17H7v-7h2v7zm4 0h-2V7h2v10zm4 0h-2v-4h2v4z\"/>\n",
              "    </g>\n",
              "</svg>\n",
              "  </button>\n",
              "\n",
              "<style>\n",
              "  .colab-df-quickchart {\n",
              "      --bg-color: #E8F0FE;\n",
              "      --fill-color: #1967D2;\n",
              "      --hover-bg-color: #E2EBFA;\n",
              "      --hover-fill-color: #174EA6;\n",
              "      --disabled-fill-color: #AAA;\n",
              "      --disabled-bg-color: #DDD;\n",
              "  }\n",
              "\n",
              "  [theme=dark] .colab-df-quickchart {\n",
              "      --bg-color: #3B4455;\n",
              "      --fill-color: #D2E3FC;\n",
              "      --hover-bg-color: #434B5C;\n",
              "      --hover-fill-color: #FFFFFF;\n",
              "      --disabled-bg-color: #3B4455;\n",
              "      --disabled-fill-color: #666;\n",
              "  }\n",
              "\n",
              "  .colab-df-quickchart {\n",
              "    background-color: var(--bg-color);\n",
              "    border: none;\n",
              "    border-radius: 50%;\n",
              "    cursor: pointer;\n",
              "    display: none;\n",
              "    fill: var(--fill-color);\n",
              "    height: 32px;\n",
              "    padding: 0;\n",
              "    width: 32px;\n",
              "  }\n",
              "\n",
              "  .colab-df-quickchart:hover {\n",
              "    background-color: var(--hover-bg-color);\n",
              "    box-shadow: 0 1px 2px rgba(60, 64, 67, 0.3), 0 1px 3px 1px rgba(60, 64, 67, 0.15);\n",
              "    fill: var(--button-hover-fill-color);\n",
              "  }\n",
              "\n",
              "  .colab-df-quickchart-complete:disabled,\n",
              "  .colab-df-quickchart-complete:disabled:hover {\n",
              "    background-color: var(--disabled-bg-color);\n",
              "    fill: var(--disabled-fill-color);\n",
              "    box-shadow: none;\n",
              "  }\n",
              "\n",
              "  .colab-df-spinner {\n",
              "    border: 2px solid var(--fill-color);\n",
              "    border-color: transparent;\n",
              "    border-bottom-color: var(--fill-color);\n",
              "    animation:\n",
              "      spin 1s steps(1) infinite;\n",
              "  }\n",
              "\n",
              "  @keyframes spin {\n",
              "    0% {\n",
              "      border-color: transparent;\n",
              "      border-bottom-color: var(--fill-color);\n",
              "      border-left-color: var(--fill-color);\n",
              "    }\n",
              "    20% {\n",
              "      border-color: transparent;\n",
              "      border-left-color: var(--fill-color);\n",
              "      border-top-color: var(--fill-color);\n",
              "    }\n",
              "    30% {\n",
              "      border-color: transparent;\n",
              "      border-left-color: var(--fill-color);\n",
              "      border-top-color: var(--fill-color);\n",
              "      border-right-color: var(--fill-color);\n",
              "    }\n",
              "    40% {\n",
              "      border-color: transparent;\n",
              "      border-right-color: var(--fill-color);\n",
              "      border-top-color: var(--fill-color);\n",
              "    }\n",
              "    60% {\n",
              "      border-color: transparent;\n",
              "      border-right-color: var(--fill-color);\n",
              "    }\n",
              "    80% {\n",
              "      border-color: transparent;\n",
              "      border-right-color: var(--fill-color);\n",
              "      border-bottom-color: var(--fill-color);\n",
              "    }\n",
              "    90% {\n",
              "      border-color: transparent;\n",
              "      border-bottom-color: var(--fill-color);\n",
              "    }\n",
              "  }\n",
              "</style>\n",
              "\n",
              "  <script>\n",
              "    async function quickchart(key) {\n",
              "      const quickchartButtonEl =\n",
              "        document.querySelector('#' + key + ' button');\n",
              "      quickchartButtonEl.disabled = true;  // To prevent multiple clicks.\n",
              "      quickchartButtonEl.classList.add('colab-df-spinner');\n",
              "      try {\n",
              "        const charts = await google.colab.kernel.invokeFunction(\n",
              "            'suggestCharts', [key], {});\n",
              "      } catch (error) {\n",
              "        console.error('Error during call to suggestCharts:', error);\n",
              "      }\n",
              "      quickchartButtonEl.classList.remove('colab-df-spinner');\n",
              "      quickchartButtonEl.classList.add('colab-df-quickchart-complete');\n",
              "    }\n",
              "    (() => {\n",
              "      let quickchartButtonEl =\n",
              "        document.querySelector('#df-fc789ff3-754f-420c-b20c-3c1918d48918 button');\n",
              "      quickchartButtonEl.style.display =\n",
              "        google.colab.kernel.accessAllowed ? 'block' : 'none';\n",
              "    })();\n",
              "  </script>\n",
              "</div>\n",
              "\n",
              "    </div>\n",
              "  </div>\n"
            ],
            "application/vnd.google.colaboratory.intrinsic+json": {
              "type": "dataframe",
              "variable_name": "data_train",
              "summary": "{\n  \"name\": \"data_train\",\n  \"rows\": 13650,\n  \"fields\": [\n    {\n      \"column\": \"City\",\n      \"properties\": {\n        \"dtype\": \"category\",\n        \"num_unique_values\": 15,\n        \"samples\": [\n          \"Jaipur\",\n          \"Lucknow\",\n          \"New Delhi\"\n        ],\n        \"semantic_type\": \"\",\n        \"description\": \"\"\n      }\n    },\n    {\n      \"column\": \"Date\",\n      \"properties\": {\n        \"dtype\": \"object\",\n        \"num_unique_values\": 910,\n        \"samples\": [\n          \"2012-05-19\",\n          \"2017-06-15\",\n          \"2018-06-09\"\n        ],\n        \"semantic_type\": \"\",\n        \"description\": \"\"\n      }\n    },\n    {\n      \"column\": \"tempmax\",\n      \"properties\": {\n        \"dtype\": \"number\",\n        \"std\": 4.115451502515017,\n        \"min\": 0.0,\n        \"max\": 50.0,\n        \"num_unique_values\": 220,\n        \"samples\": [\n          26.3,\n          24.7,\n          39.2\n        ],\n        \"semantic_type\": \"\",\n        \"description\": \"\"\n      }\n    },\n    {\n      \"column\": \"tempmin\",\n      \"properties\": {\n        \"dtype\": \"number\",\n        \"std\": 3.212166685122624,\n        \"min\": 0.0,\n        \"max\": 37.0,\n        \"num_unique_values\": 194,\n        \"samples\": [\n          31.8,\n          21.6,\n          33.5\n        ],\n        \"semantic_type\": \"\",\n        \"description\": \"\"\n      }\n    },\n    {\n      \"column\": \"temp\",\n      \"properties\": {\n        \"dtype\": \"number\",\n        \"std\": 3.074874244837349,\n        \"min\": 19.9,\n        \"max\": 40.5,\n        \"num_unique_values\": 188,\n        \"samples\": [\n          39.7,\n          38.0,\n          26.1\n        ],\n        \"semantic_type\": \"\",\n        \"description\": \"\"\n      }\n    },\n    {\n      \"column\": \"feelslikemax\",\n      \"properties\": {\n        \"dtype\": \"number\",\n        \"std\": 5.389015500599131,\n        \"min\": 0.0,\n        \"max\": 79.2,\n        \"num_unique_values\": 321,\n        \"samples\": [\n          30.5,\n          47.9,\n          45.7\n        ],\n        \"semantic_type\": \"\",\n        \"description\": \"\"\n      }\n    },\n    {\n      \"column\": \"feelslikemin\",\n      \"properties\": {\n        \"dtype\": \"number\",\n        \"std\": 4.9071252316637635,\n        \"min\": 0.0,\n        \"max\": 43.3,\n        \"num_unique_values\": 253,\n        \"samples\": [\n          18.3,\n          23.4,\n          35.1\n        ],\n        \"semantic_type\": \"\",\n        \"description\": \"\"\n      }\n    },\n    {\n      \"column\": \"feelslike\",\n      \"properties\": {\n        \"dtype\": \"number\",\n        \"std\": 4.666616407415426,\n        \"min\": 19.9,\n        \"max\": 48.5,\n        \"num_unique_values\": 265,\n        \"samples\": [\n          24.1,\n          38.3,\n          36.9\n        ],\n        \"semantic_type\": \"\",\n        \"description\": \"\"\n      }\n    },\n    {\n      \"column\": \"dew\",\n      \"properties\": {\n        \"dtype\": \"number\",\n        \"std\": 5.966340768818779,\n        \"min\": -10.3,\n        \"max\": 29.1,\n        \"num_unique_values\": 317,\n        \"samples\": [\n          21.4,\n          5.8,\n          9.8\n        ],\n        \"semantic_type\": \"\",\n        \"description\": \"\"\n      }\n    },\n    {\n      \"column\": \"humidity\",\n      \"properties\": {\n        \"dtype\": \"number\",\n        \"std\": 19.521510216332242,\n        \"min\": 7.41,\n        \"max\": 99.04,\n        \"num_unique_values\": 6100,\n        \"samples\": [\n          16.66,\n          46.63,\n          27.92\n        ],\n        \"semantic_type\": \"\",\n        \"description\": \"\"\n      }\n    },\n    {\n      \"column\": \"windspeed\",\n      \"properties\": {\n        \"dtype\": \"number\",\n        \"std\": 9.886467699142635,\n        \"min\": 0.0,\n        \"max\": 263.2,\n        \"num_unique_values\": 384,\n        \"samples\": [\n          42.3,\n          32.0,\n          10.4\n        ],\n        \"semantic_type\": \"\",\n        \"description\": \"\"\n      }\n    },\n    {\n      \"column\": \"winddir\",\n      \"properties\": {\n        \"dtype\": \"number\",\n        \"std\": 64.18134515024953,\n        \"min\": 0.0,\n        \"max\": 360.0,\n        \"num_unique_values\": 2490,\n        \"samples\": [\n          107.7,\n          248.9,\n          257.5\n        ],\n        \"semantic_type\": \"\",\n        \"description\": \"\"\n      }\n    },\n    {\n      \"column\": \"sealevelpressure\",\n      \"properties\": {\n        \"dtype\": \"number\",\n        \"std\": 4.183785351743299,\n        \"min\": 908.5,\n        \"max\": 1026.2,\n        \"num_unique_values\": 260,\n        \"samples\": [\n          1008.0,\n          997.7,\n          993.9\n        ],\n        \"semantic_type\": \"\",\n        \"description\": \"\"\n      }\n    },\n    {\n      \"column\": \"cloudcover\",\n      \"properties\": {\n        \"dtype\": \"number\",\n        \"std\": 24.684503861859472,\n        \"min\": 0.0,\n        \"max\": 100.0,\n        \"num_unique_values\": 977,\n        \"samples\": [\n          33.7,\n          51.1,\n          30.5\n        ],\n        \"semantic_type\": \"\",\n        \"description\": \"\"\n      }\n    },\n    {\n      \"column\": \"visibility\",\n      \"properties\": {\n        \"dtype\": \"number\",\n        \"std\": 1.3824126147302556,\n        \"min\": 1.3,\n        \"max\": 12.3,\n        \"num_unique_values\": 80,\n        \"samples\": [\n          6.4,\n          3.1,\n          2.2\n        ],\n        \"semantic_type\": \"\",\n        \"description\": \"\"\n      }\n    },\n    {\n      \"column\": \"sunrise\",\n      \"properties\": {\n        \"dtype\": \"object\",\n        \"num_unique_values\": 13542,\n        \"samples\": [\n          \"2013-05-19 05:42:32\",\n          \"2014-06-19 05:43:18\",\n          \"2017-04-24 06:15:11\"\n        ],\n        \"semantic_type\": \"\",\n        \"description\": \"\"\n      }\n    },\n    {\n      \"column\": \"sunset\",\n      \"properties\": {\n        \"dtype\": \"object\",\n        \"num_unique_values\": 13543,\n        \"samples\": [\n          \"2021-06-24 19:23:43\",\n          \"2019-05-05 19:05:08\",\n          \"2012-05-14 18:46:23\"\n        ],\n        \"semantic_type\": \"\",\n        \"description\": \"\"\n      }\n    },\n    {\n      \"column\": \"moonphase\",\n      \"properties\": {\n        \"dtype\": \"number\",\n        \"std\": 0.3082039364984989,\n        \"min\": 0.0,\n        \"max\": 1.0,\n        \"num_unique_values\": 101,\n        \"samples\": [\n          0.77,\n          0.9,\n          0.69\n        ],\n        \"semantic_type\": \"\",\n        \"description\": \"\"\n      }\n    },\n    {\n      \"column\": \"conditions\",\n      \"properties\": {\n        \"dtype\": \"category\",\n        \"num_unique_values\": 6,\n        \"samples\": [\n          \"Clear\",\n          \"Partially cloudy\",\n          \"Rain\"\n        ],\n        \"semantic_type\": \"\",\n        \"description\": \"\"\n      }\n    },\n    {\n      \"column\": \"description\",\n      \"properties\": {\n        \"dtype\": \"category\",\n        \"num_unique_values\": 31,\n        \"samples\": [\n          \"Clear conditions throughout the day with late afternoon rain.\",\n          \"Partly cloudy throughout the day with rain clearing later.\",\n          \"Partly cloudy throughout the day with a chance of rain throughout the day.\"\n        ],\n        \"semantic_type\": \"\",\n        \"description\": \"\"\n      }\n    }\n  ]\n}"
            }
          },
          "metadata": {},
          "execution_count": 41
        }
      ],
      "source": [
        "data_train = pd.read_csv('Indian Summers - Over the years.csv')\n",
        "data_train.head()"
      ]
    },
    {
      "cell_type": "code",
      "execution_count": null,
      "metadata": {
        "colab": {
          "base_uri": "https://localhost:8080/"
        },
        "id": "B9DccX0joB0e",
        "outputId": "54abbdb3-5ad1-413d-d6f4-846a75b6ced7"
      },
      "outputs": [
        {
          "output_type": "execute_result",
          "data": {
            "text/plain": [
              "13650"
            ]
          },
          "metadata": {},
          "execution_count": 42
        }
      ],
      "source": [
        "len(data_train)"
      ]
    },
    {
      "cell_type": "code",
      "execution_count": null,
      "metadata": {
        "colab": {
          "base_uri": "https://localhost:8080/"
        },
        "id": "n1Ma-vWG2K2Y",
        "outputId": "fa5a6c7d-3797-4063-91b5-28b9c7e07c1c"
      },
      "outputs": [
        {
          "output_type": "execute_result",
          "data": {
            "text/plain": [
              "City                   0\n",
              "Date                   0\n",
              "tempmax               35\n",
              "tempmin               35\n",
              "temp                  45\n",
              "feelslikemax          36\n",
              "feelslikemin          36\n",
              "feelslike             46\n",
              "dew                   45\n",
              "humidity              45\n",
              "windspeed             45\n",
              "winddir               50\n",
              "sealevelpressure    3019\n",
              "cloudcover            45\n",
              "visibility            45\n",
              "sunrise                0\n",
              "sunset                 0\n",
              "moonphase              0\n",
              "conditions            45\n",
              "description           45\n",
              "dtype: int64"
            ]
          },
          "metadata": {},
          "execution_count": 43
        }
      ],
      "source": [
        "data_train.isnull().sum()"
      ]
    },
    {
      "cell_type": "code",
      "source": [
        "data_train.dropna(subset=['temp', 'feelslikemax', 'feelslikemin', 'feelslike', 'winddir', 'sealevelpressure'],inplace=True)\n",
        "data_train.isnull().sum()"
      ],
      "metadata": {
        "colab": {
          "base_uri": "https://localhost:8080/"
        },
        "id": "qzYjsk0K8bfc",
        "outputId": "0967aa41-4201-47dd-fe5a-5a9c838fe115"
      },
      "execution_count": null,
      "outputs": [
        {
          "output_type": "execute_result",
          "data": {
            "text/plain": [
              "City                0\n",
              "Date                0\n",
              "tempmax             0\n",
              "tempmin             0\n",
              "temp                0\n",
              "feelslikemax        0\n",
              "feelslikemin        0\n",
              "feelslike           0\n",
              "dew                 0\n",
              "humidity            0\n",
              "windspeed           0\n",
              "winddir             0\n",
              "sealevelpressure    0\n",
              "cloudcover          0\n",
              "visibility          0\n",
              "sunrise             0\n",
              "sunset              0\n",
              "moonphase           0\n",
              "conditions          0\n",
              "description         0\n",
              "dtype: int64"
            ]
          },
          "metadata": {},
          "execution_count": 44
        }
      ]
    },
    {
      "cell_type": "code",
      "source": [
        "len(data_train)"
      ],
      "metadata": {
        "colab": {
          "base_uri": "https://localhost:8080/"
        },
        "id": "l4QeeUk_DbRI",
        "outputId": "2af4717a-2532-4c9c-a8e0-06d4fb22d560"
      },
      "execution_count": null,
      "outputs": [
        {
          "output_type": "execute_result",
          "data": {
            "text/plain": [
              "10631"
            ]
          },
          "metadata": {},
          "execution_count": 49
        }
      ]
    },
    {
      "cell_type": "code",
      "execution_count": null,
      "metadata": {
        "id": "dejx-H6D2WX1"
      },
      "outputs": [],
      "source": [
        "from sklearn.model_selection import train_test_split\n",
        "from sklearn.preprocessing import MinMaxScaler\n",
        "Tanggal = data_train['Date'].values\n",
        "Temp = data_train['temp'].values\n",
        "Tanggal_train, Tanggal_test, Temp_train, Temp_test = train_test_split(Tanggal, Temp, train_size=0.8, test_size=0.2, shuffle=False)\n",
        "scaler = MinMaxScaler()\n",
        "P_train = scaler.fit([Temp_train])\n",
        "P_test = scaler.fit([Temp_test])"
      ]
    },
    {
      "cell_type": "code",
      "execution_count": null,
      "metadata": {
        "id": "FZQ5M3BI5Mnw"
      },
      "outputs": [],
      "source": [
        "def windowed_dataset(series, window_size, batch_size, shuffle_buffer):\n",
        "    series = tf.expand_dims(series, axis=-1)\n",
        "    ds = tf.data.Dataset.from_tensor_slices(series)\n",
        "    ds = ds.window(window_size + 1, shift=1, drop_remainder=True)\n",
        "    ds = ds.flat_map(lambda w: w.batch(window_size + 1))\n",
        "    ds = ds.shuffle(shuffle_buffer)\n",
        "    ds = ds.map(lambda w: (w[:-1], w[-1:]))\n",
        "    return ds.batch(batch_size).prefetch(1)"
      ]
    },
    {
      "cell_type": "code",
      "execution_count": null,
      "metadata": {
        "id": "c-zFqSHVB67q"
      },
      "outputs": [],
      "source": [
        "train_set = windowed_dataset(Temp_train, window_size=64, batch_size=200, shuffle_buffer=1000)\n",
        "test_set = windowed_dataset(Temp_test, window_size=64, batch_size=200, shuffle_buffer=1000)\n",
        "\n",
        "\n",
        "model = Sequential()\n",
        "model.add(Bidirectional(LSTM(64, return_sequences=True))),\n",
        "model.add(Bidirectional(LSTM(64))),\n",
        "model.add(Dropout(0.5)),\n",
        "model.add(Dense(64, activation=\"relu\")),\n",
        "model.add(Dense(32, activation=\"relu\")),\n",
        "model.add(Dense(1))"
      ]
    },
    {
      "cell_type": "code",
      "source": [
        "#mencari nilai MAE 10% skala data\n",
        "Mae = (data_train['temp'].max() - data_train['temp'].min())*0.1\n",
        "print(Mae)"
      ],
      "metadata": {
        "colab": {
          "base_uri": "https://localhost:8080/"
        },
        "id": "QKZaMiAWuuMY",
        "outputId": "8d878baa-70c7-4d75-b9cf-67709df5cf51"
      },
      "execution_count": null,
      "outputs": [
        {
          "output_type": "stream",
          "name": "stdout",
          "text": [
            "1.9600000000000002\n"
          ]
        }
      ]
    },
    {
      "cell_type": "code",
      "execution_count": null,
      "metadata": {
        "id": "u-SZf4LoC4kb"
      },
      "outputs": [],
      "source": [
        "#Hentikan jika MAE <10% skala data\n",
        "class myCallback(tf.keras.callbacks.Callback):\n",
        "  def on_epoch_end(self, epoch, logs={}):\n",
        "    if(logs.get('mae')<2.06 and logs.get('val_mae')<2.06):\n",
        "      print(\"Anda sudah berhasil menjalankan Proyek Time Series ini. MAE model ini sudah <10%. Selamat!\")\n",
        "      self.model.stop_training = True\n",
        "callbacks = myCallback()"
      ]
    },
    {
      "cell_type": "code",
      "execution_count": null,
      "metadata": {
        "colab": {
          "base_uri": "https://localhost:8080/"
        },
        "id": "hxrThkGnCSgq",
        "outputId": "a3a55513-89b4-42f3-b9bf-fa420bee876c"
      },
      "outputs": [
        {
          "output_type": "stream",
          "name": "stderr",
          "text": [
            "WARNING:absl:`lr` is deprecated in Keras optimizer, please use `learning_rate` or use the legacy optimizer, e.g.,tf.keras.optimizers.legacy.SGD.\n"
          ]
        },
        {
          "output_type": "stream",
          "name": "stdout",
          "text": [
            "Epoch 1/100\n",
            "43/43 [==============================] - 11s 95ms/step - loss: 11.6698 - mae: 12.1597 - val_loss: 1.9270 - val_mae: 2.3787\n",
            "Epoch 2/100\n",
            "43/43 [==============================] - 3s 57ms/step - loss: 2.4697 - mae: 2.9321 - val_loss: 2.0105 - val_mae: 2.4700\n",
            "Epoch 3/100\n",
            "43/43 [==============================] - 2s 43ms/step - loss: 2.3883 - mae: 2.8519 - val_loss: 1.8434 - val_mae: 2.2877\n",
            "Epoch 4/100\n",
            "43/43 [==============================] - 2s 45ms/step - loss: 2.1790 - mae: 2.6392 - val_loss: 1.8096 - val_mae: 2.2542\n",
            "Epoch 5/100\n",
            "43/43 [==============================] - 2s 44ms/step - loss: 2.1122 - mae: 2.5723 - val_loss: 1.7853 - val_mae: 2.2288\n",
            "Epoch 6/100\n",
            "43/43 [==============================] - 2s 50ms/step - loss: 1.8215 - mae: 2.2737 - val_loss: 1.6218 - val_mae: 2.0678\n",
            "Epoch 7/100\n",
            "43/43 [==============================] - 4s 77ms/step - loss: 2.1138 - mae: 2.5729 - val_loss: 1.8081 - val_mae: 2.2560\n",
            "Epoch 8/100\n",
            "43/43 [==============================] - 2s 45ms/step - loss: 1.7902 - mae: 2.2414 - val_loss: 1.7935 - val_mae: 2.2557\n",
            "Epoch 9/100\n",
            "43/43 [==============================] - 2s 44ms/step - loss: 1.8064 - mae: 2.2597 - val_loss: 1.7830 - val_mae: 2.2439\n",
            "Epoch 10/100\n",
            "43/43 [==============================] - 2s 47ms/step - loss: 1.8297 - mae: 2.2862 - val_loss: 1.4514 - val_mae: 1.8853\n",
            "Epoch 11/100\n",
            "43/43 [==============================] - 2s 51ms/step - loss: 1.8416 - mae: 2.2939 - val_loss: 2.3341 - val_mae: 2.8054\n",
            "Epoch 12/100\n",
            "43/43 [==============================] - 4s 86ms/step - loss: 2.2074 - mae: 2.6687 - val_loss: 2.1225 - val_mae: 2.5797\n",
            "Epoch 13/100\n",
            "43/43 [==============================] - ETA: 0s - loss: 1.6135 - mae: 2.0586Anda sudah berhasil menjalankan Proyek Time Series ini. MAE model ini sudah <10%. Selamat!\n",
            "43/43 [==============================] - 2s 44ms/step - loss: 1.6135 - mae: 2.0586 - val_loss: 1.1296 - val_mae: 1.5497\n"
          ]
        }
      ],
      "source": [
        "optimizer = tf.keras.optimizers.SGD(lr=1.0000e-04, momentum=0.9)\n",
        "model.compile(loss=tf.keras.losses.Huber(),\n",
        "              optimizer=optimizer,\n",
        "              metrics=[\"mae\"])\n",
        "history = model.fit(train_set, epochs=100, validation_data = test_set, callbacks=[callbacks])"
      ]
    },
    {
      "cell_type": "code",
      "execution_count": null,
      "metadata": {
        "colab": {
          "base_uri": "https://localhost:8080/",
          "height": 472
        },
        "id": "Z-CfiuZU4IgS",
        "outputId": "5d867340-4982-4cb6-db51-e729ccd2cfc6"
      },
      "outputs": [
        {
          "output_type": "display_data",
          "data": {
            "text/plain": [
              "<Figure size 640x480 with 1 Axes>"
            ],
            "image/png": "[encoded data removed]"
          },
          "metadata": {}
        }
      ],
      "source": [
        "import matplotlib.pyplot as plt\n",
        "plt.plot(history.history['loss'])\n",
        "plt.plot(history.history['val_loss'])\n",
        "plt.title('Model loss')\n",
        "plt.ylabel('Loss')\n",
        "plt.xlabel('Epoch')\n",
        "plt.legend(['Train', 'Val'], loc='upper right')\n",
        "plt.show()"
      ]
    },
    {
      "cell_type": "code",
      "execution_count": null,
      "metadata": {
        "colab": {
          "base_uri": "https://localhost:8080/",
          "height": 472
        },
        "id": "hz5f61iO4cOQ",
        "outputId": "c80b28f4-488b-43bc-c7ea-322a0654397e"
      },
      "outputs": [
        {
          "output_type": "display_data",
          "data": {
            "text/plain": [
              "<Figure size 640x480 with 1 Axes>"
            ],
            "image/png": "[encoded data removed]"
          },
          "metadata": {}
        }
      ],
      "source": [
        "import matplotlib.pyplot as plt\n",
        "plt.plot(history.history['mae'])\n",
        "plt.plot(history.history['val_mae'])\n",
        "plt.title('Model MAE')\n",
        "plt.ylabel('MAE')\n",
        "plt.xlabel('Epoch')\n",
        "plt.legend(['Train', 'Val'], loc='upper right')\n",
        "plt.show()"
      ]
    }
  ],
  "metadata": {
    "accelerator": "GPU",
    "colab": {
      "provenance": []
    },
    "kernelspec": {
      "display_name": "Python 3",
      "name": "python3"
    },
    "language_info": {
      "name": "python"
    }
  },
  "nbformat": 4,
  "nbformat_minor": 0
}
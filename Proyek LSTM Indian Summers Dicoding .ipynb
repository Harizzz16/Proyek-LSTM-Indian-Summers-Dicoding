{
  "cells": [
    {
      "cell_type": "code",
      "execution_count": null,
      "metadata": {
        "id": "6mG1ShyHfsKk"
      },
      "outputs": [],
      "source": [
        " #Haris Amaldi\n",
        " #Dilarang keras mengcopy kode ini! PLAGIARISME ITU HARAM!"
      ]
    },
    {
      "cell_type": "code",
      "execution_count": null,
      "metadata": {
        "id": "3PrqJ_tKmxov"
      },
      "outputs": [],
      "source": [
        "import numpy as np\n",
        "import pandas as pd\n",
        "from keras.layers import Dense, LSTM\n",
        "import matplotlib.pyplot as plt\n",
        "import tensorflow as tf\n",
        "from tensorflow.keras.models import Sequential\n",
        "from tensorflow.keras.layers import LSTM,Dense,Bidirectional,Dropout"
      ]
    },
    {
      "cell_type": "code",
      "execution_count": null,
      "metadata": {
        "colab": {
          "base_uri": "https://localhost:8080/",
          "height": 513
        },
        "id": "Tg0LXu5V14fJ",
        "outputId": "4ae5678b-8d38-4e1a-b03e-66c18bf67843"
      },
      "outputs": [
        {
          "output_type": "execute_result",
          "data": {
            "text/plain": [
              "        City        Date  tempmax  tempmin  temp  feelslikemax  feelslikemin  \\\n",
              "0  New Delhi  2021-04-01     34.0     19.0  27.1          31.6          19.0   \n",
              "1  New Delhi  2021-04-02     33.9     16.0  25.8          31.8          16.0   \n",
              "2  New Delhi  2021-04-03     34.8     14.6  26.0          32.2          14.6   \n",
              "3  New Delhi  2021-04-04     36.8     16.9  27.1          34.2          16.9   \n",
              "4  New Delhi  2021-04-05     38.8     21.0  29.9          37.1          21.0   \n",
              "\n",
              "   feelslike  dew  humidity  windspeed  winddir  sealevelpressure  cloudcover  \\\n",
              "0       26.1  3.1     22.60       22.8    272.9            1002.8         0.0   \n",
              "1       24.9  4.5     27.62       12.4    275.0            1006.2         0.0   \n",
              "2       25.1  1.3     23.18       16.5    127.5            1008.8         1.4   \n",
              "3       26.0  4.8     28.00       18.3    157.6            1009.5         2.6   \n",
              "4       28.9  8.1     28.85       13.5    100.4            1007.8        38.4   \n",
              "\n",
              "   visibility              sunrise               sunset  moonphase  \\\n",
              "0         3.1  2021-04-01 06:11:12  2021-04-01 18:39:13       0.60   \n",
              "1         3.5  2021-04-02 06:10:04  2021-04-02 18:39:46       0.65   \n",
              "2         3.5  2021-04-03 06:08:55  2021-04-03 18:40:19       0.70   \n",
              "3         3.2  2021-04-04 06:07:47  2021-04-04 18:40:53       0.76   \n",
              "4         3.1  2021-04-05 06:06:39  2021-04-05 18:41:26       0.81   \n",
              "\n",
              "         conditions                           description  \n",
              "0             Clear  Clear conditions throughout the day.  \n",
              "1             Clear  Clear conditions throughout the day.  \n",
              "2             Clear  Clear conditions throughout the day.  \n",
              "3             Clear  Clear conditions throughout the day.  \n",
              "4  Partially cloudy     Partly cloudy throughout the day.  "
            ],
            "text/html": [
              "\n",
              "  <div id=\"df-be483652-4750-4ccd-8968-f75d98f5e2ad\">\n",
              "    <div class=\"colab-df-container\">\n",
              "      <div>\n",
              "<style scoped>\n",
              "    .dataframe tbody tr th:only-of-type {\n",
              "        vertical-align: middle;\n",
              "    }\n",
              "\n",
              "    .dataframe tbody tr th {\n",
              "        vertical-align: top;\n",
              "    }\n",
              "\n",
              "    .dataframe thead th {\n",
              "        text-align: right;\n",
              "    }\n",
              "</style>\n",
              "<table border=\"1\" class=\"dataframe\">\n",
              "  <thead>\n",
              "    <tr style=\"text-align: right;\">\n",
              "      <th></th>\n",
              "      <th>City</th>\n",
              "      <th>Date</th>\n",
              "      <th>tempmax</th>\n",
              "      <th>tempmin</th>\n",
              "      <th>temp</th>\n",
              "      <th>feelslikemax</th>\n",
              "      <th>feelslikemin</th>\n",
              "      <th>feelslike</th>\n",
              "      <th>dew</th>\n",
              "      <th>humidity</th>\n",
              "      <th>windspeed</th>\n",
              "      <th>winddir</th>\n",
              "      <th>sealevelpressure</th>\n",
              "      <th>cloudcover</th>\n",
              "      <th>visibility</th>\n",
              "      <th>sunrise</th>\n",
              "      <th>sunset</th>\n",
              "      <th>moonphase</th>\n",
              "      <th>conditions</th>\n",
              "      <th>description</th>\n",
              "    </tr>\n",
              "  </thead>\n",
              "  <tbody>\n",
              "    <tr>\n",
              "      <th>0</th>\n",
              "      <td>New Delhi</td>\n",
              "      <td>2021-04-01</td>\n",
              "      <td>34.0</td>\n",
              "      <td>19.0</td>\n",
              "      <td>27.1</td>\n",
              "      <td>31.6</td>\n",
              "      <td>19.0</td>\n",
              "      <td>26.1</td>\n",
              "      <td>3.1</td>\n",
              "      <td>22.60</td>\n",
              "      <td>22.8</td>\n",
              "      <td>272.9</td>\n",
              "      <td>1002.8</td>\n",
              "      <td>0.0</td>\n",
              "      <td>3.1</td>\n",
              "      <td>2021-04-01 06:11:12</td>\n",
              "      <td>2021-04-01 18:39:13</td>\n",
              "      <td>0.60</td>\n",
              "      <td>Clear</td>\n",
              "      <td>Clear conditions throughout the day.</td>\n",
              "    </tr>\n",
              "    <tr>\n",
              "      <th>1</th>\n",
              "      <td>New Delhi</td>\n",
              "      <td>2021-04-02</td>\n",
              "      <td>33.9</td>\n",
              "      <td>16.0</td>\n",
              "      <td>25.8</td>\n",
              "      <td>31.8</td>\n",
              "      <td>16.0</td>\n",
              "      <td>24.9</td>\n",
              "      <td>4.5</td>\n",
              "      <td>27.62</td>\n",
              "      <td>12.4</td>\n",
              "      <td>275.0</td>\n",
              "      <td>1006.2</td>\n",
              "      <td>0.0</td>\n",
              "      <td>3.5</td>\n",
              "      <td>2021-04-02 06:10:04</td>\n",
              "      <td>2021-04-02 18:39:46</td>\n",
              "      <td>0.65</td>\n",
              "      <td>Clear</td>\n",
              "      <td>Clear conditions throughout the day.</td>\n",
              "    </tr>\n",
              "    <tr>\n",
              "      <th>2</th>\n",
              "      <td>New Delhi</td>\n",
              "      <td>2021-04-03</td>\n",
              "      <td>34.8</td>\n",
              "      <td>14.6</td>\n",
              "      <td>26.0</td>\n",
              "      <td>32.2</td>\n",
              "      <td>14.6</td>\n",
              "      <td>25.1</td>\n",
              "      <td>1.3</td>\n",
              "      <td>23.18</td>\n",
              "      <td>16.5</td>\n",
              "      <td>127.5</td>\n",
              "      <td>1008.8</td>\n",
              "      <td>1.4</td>\n",
              "      <td>3.5</td>\n",
              "      <td>2021-04-03 06:08:55</td>\n",
              "      <td>2021-04-03 18:40:19</td>\n",
              "      <td>0.70</td>\n",
              "      <td>Clear</td>\n",
              "      <td>Clear conditions throughout the day.</td>\n",
              "    </tr>\n",
              "    <tr>\n",
              "      <th>3</th>\n",
              "      <td>New Delhi</td>\n",
              "      <td>2021-04-04</td>\n",
              "      <td>36.8</td>\n",
              "      <td>16.9</td>\n",
              "      <td>27.1</td>\n",
              "      <td>34.2</td>\n",
              "      <td>16.9</td>\n",
              "      <td>26.0</td>\n",
              "      <td>4.8</td>\n",
              "      <td>28.00</td>\n",
              "      <td>18.3</td>\n",
              "      <td>157.6</td>\n",
              "      <td>1009.5</td>\n",
              "      <td>2.6</td>\n",
              "      <td>3.2</td>\n",
              "      <td>2021-04-04 06:07:47</td>\n",
              "      <td>2021-04-04 18:40:53</td>\n",
              "      <td>0.76</td>\n",
              "      <td>Clear</td>\n",
              "      <td>Clear conditions throughout the day.</td>\n",
              "    </tr>\n",
              "    <tr>\n",
              "      <th>4</th>\n",
              "      <td>New Delhi</td>\n",
              "      <td>2021-04-05</td>\n",
              "      <td>38.8</td>\n",
              "      <td>21.0</td>\n",
              "      <td>29.9</td>\n",
              "      <td>37.1</td>\n",
              "      <td>21.0</td>\n",
              "      <td>28.9</td>\n",
              "      <td>8.1</td>\n",
              "      <td>28.85</td>\n",
              "      <td>13.5</td>\n",
              "      <td>100.4</td>\n",
              "      <td>1007.8</td>\n",
              "      <td>38.4</td>\n",
              "      <td>3.1</td>\n",
              "      <td>2021-04-05 06:06:39</td>\n",
              "      <td>2021-04-05 18:41:26</td>\n",
              "      <td>0.81</td>\n",
              "      <td>Partially cloudy</td>\n",
              "      <td>Partly cloudy throughout the day.</td>\n",
              "    </tr>\n",
              "  </tbody>\n",
              "</table>\n",
              "</div>\n",
              "      <button class=\"colab-df-convert\" onclick=\"convertToInteractive('df-be483652-4750-4ccd-8968-f75d98f5e2ad')\"\n",
              "              title=\"Convert this dataframe to an interactive table.\"\n",
              "              style=\"display:none;\">\n",
              "        \n",
              "  <svg xmlns=\"http://www.w3.org/2000/svg\" height=\"24px\"viewBox=\"0 0 24 24\"\n",
              "       width=\"24px\">\n",
              "    <path d=\"M0 0h24v24H0V0z\" fill=\"none\"/>\n",
              "    <path d=\"M18.56 5.44l.94 2.06.94-2.06 2.06-.94-2.06-.94-.94-2.06-.94 2.06-2.06.94zm-11 1L8.5 8.5l.94-2.06 2.06-.94-2.06-.94L8.5 2.5l-.94 2.06-2.06.94zm10 10l.94 2.06.94-2.06 2.06-.94-2.06-.94-.94-2.06-.94 2.06-2.06.94z\"/><path d=\"M17.41 7.96l-1.37-1.37c-.4-.4-.92-.59-1.43-.59-.52 0-1.04.2-1.43.59L10.3 9.45l-7.72 7.72c-.78.78-.78 2.05 0 2.83L4 21.41c.39.39.9.59 1.41.59.51 0 1.02-.2 1.41-.59l7.78-7.78 2.81-2.81c.8-.78.8-2.07 0-2.86zM5.41 20L4 18.59l7.72-7.72 1.47 1.35L5.41 20z\"/>\n",
              "  </svg>\n",
              "      </button>\n",
              "      \n",
              "  <style>\n",
              "    .colab-df-container {\n",
              "      display:flex;\n",
              "      flex-wrap:wrap;\n",
              "      gap: 12px;\n",
              "    }\n",
              "\n",
              "    .colab-df-convert {\n",
              "      background-color: #E8F0FE;\n",
              "      border: none;\n",
              "      border-radius: 50%;\n",
              "      cursor: pointer;\n",
              "      display: none;\n",
              "      fill: #1967D2;\n",
              "      height: 32px;\n",
              "      padding: 0 0 0 0;\n",
              "      width: 32px;\n",
              "    }\n",
              "\n",
              "    .colab-df-convert:hover {\n",
              "      background-color: #E2EBFA;\n",
              "      box-shadow: 0px 1px 2px rgba(60, 64, 67, 0.3), 0px 1px 3px 1px rgba(60, 64, 67, 0.15);\n",
              "      fill: #174EA6;\n",
              "    }\n",
              "\n",
              "    [theme=dark] .colab-df-convert {\n",
              "      background-color: #3B4455;\n",
              "      fill: #D2E3FC;\n",
              "    }\n",
              "\n",
              "    [theme=dark] .colab-df-convert:hover {\n",
              "      background-color: #434B5C;\n",
              "      box-shadow: 0px 1px 3px 1px rgba(0, 0, 0, 0.15);\n",
              "      filter: drop-shadow(0px 1px 2px rgba(0, 0, 0, 0.3));\n",
              "      fill: #FFFFFF;\n",
              "    }\n",
              "  </style>\n",
              "\n",
              "      <script>\n",
              "        const buttonEl =\n",
              "          document.querySelector('#df-be483652-4750-4ccd-8968-f75d98f5e2ad button.colab-df-convert');\n",
              "        buttonEl.style.display =\n",
              "          google.colab.kernel.accessAllowed ? 'block' : 'none';\n",
              "\n",
              "        async function convertToInteractive(key) {\n",
              "          const element = document.querySelector('#df-be483652-4750-4ccd-8968-f75d98f5e2ad');\n",
              "          const dataTable =\n",
              "            await google.colab.kernel.invokeFunction('convertToInteractive',\n",
              "                                                     [key], {});\n",
              "          if (!dataTable) return;\n",
              "\n",
              "          const docLinkHtml = 'Like what you see? Visit the ' +\n",
              "            '<a target=\"_blank\" href=https://colab.research.google.com/notebooks/data_table.ipynb>data table notebook</a>'\n",
              "            + ' to learn more about interactive tables.';\n",
              "          element.innerHTML = '';\n",
              "          dataTable['output_type'] = 'display_data';\n",
              "          await google.colab.output.renderOutput(dataTable, element);\n",
              "          const docLink = document.createElement('div');\n",
              "          docLink.innerHTML = docLinkHtml;\n",
              "          element.appendChild(docLink);\n",
              "        }\n",
              "      </script>\n",
              "    </div>\n",
              "  </div>\n",
              "  "
            ]
          },
          "metadata": {},
          "execution_count": 65
        }
      ],
      "source": [
        "data_train = pd.read_csv('Indian Summers - Over the years.csv')\n",
        "data_train.head()"
      ]
    },
    {
      "cell_type": "code",
      "execution_count": null,
      "metadata": {
        "colab": {
          "base_uri": "https://localhost:8080/"
        },
        "id": "B9DccX0joB0e",
        "outputId": "4e0b027e-ea8f-450d-c1b8-aa97bbe68f43"
      },
      "outputs": [
        {
          "output_type": "execute_result",
          "data": {
            "text/plain": [
              "13650"
            ]
          },
          "metadata": {},
          "execution_count": 66
        }
      ],
      "source": [
        "len(data_train)"
      ]
    },
    {
      "cell_type": "code",
      "execution_count": null,
      "metadata": {
        "colab": {
          "base_uri": "https://localhost:8080/"
        },
        "id": "n1Ma-vWG2K2Y",
        "outputId": "d8cd1c31-5cab-4a76-baf8-c05dc11052ac"
      },
      "outputs": [
        {
          "output_type": "execute_result",
          "data": {
            "text/plain": [
              "City                   0\n",
              "Date                   0\n",
              "tempmax               35\n",
              "tempmin               35\n",
              "temp                  45\n",
              "feelslikemax          36\n",
              "feelslikemin          36\n",
              "feelslike             46\n",
              "dew                   45\n",
              "humidity              45\n",
              "windspeed             45\n",
              "winddir               50\n",
              "sealevelpressure    3019\n",
              "cloudcover            45\n",
              "visibility            45\n",
              "sunrise                0\n",
              "sunset                 0\n",
              "moonphase              0\n",
              "conditions            45\n",
              "description           45\n",
              "dtype: int64"
            ]
          },
          "metadata": {},
          "execution_count": 67
        }
      ],
      "source": [
        "data_train.isnull().sum()"
      ]
    },
    {
      "cell_type": "code",
      "source": [
        "data_train.dropna(subset=['temp'],inplace=True)\n",
        "data_train.isnull().sum()"
      ],
      "metadata": {
        "colab": {
          "base_uri": "https://localhost:8080/"
        },
        "id": "qzYjsk0K8bfc",
        "outputId": "27743a34-895e-440d-960c-6f9c10eb548f"
      },
      "execution_count": null,
      "outputs": [
        {
          "output_type": "execute_result",
          "data": {
            "text/plain": [
              "City                   0\n",
              "Date                   0\n",
              "tempmax                0\n",
              "tempmin                0\n",
              "temp                   0\n",
              "feelslikemax           1\n",
              "feelslikemin           1\n",
              "feelslike              1\n",
              "dew                    0\n",
              "humidity               0\n",
              "windspeed              0\n",
              "winddir                5\n",
              "sealevelpressure    2974\n",
              "cloudcover             0\n",
              "visibility             0\n",
              "sunrise                0\n",
              "sunset                 0\n",
              "moonphase              0\n",
              "conditions             0\n",
              "description            0\n",
              "dtype: int64"
            ]
          },
          "metadata": {},
          "execution_count": 78
        }
      ]
    },
    {
      "cell_type": "code",
      "execution_count": null,
      "metadata": {
        "id": "dejx-H6D2WX1"
      },
      "outputs": [],
      "source": [
        "from sklearn.model_selection import train_test_split\n",
        "from sklearn.preprocessing import MinMaxScaler\n",
        "Tanggal = data_train['Date'].values\n",
        "Temp = data_train['temp'].values\n",
        "Tanggal_train, Tanggal_test, Temp_train, Temp_test = train_test_split(Tanggal, Temp, train_size=0.8, test_size=0.2, shuffle=False)\n",
        "scaler = MinMaxScaler()\n",
        "P_train = scaler.fit([Temp_train])\n",
        "P_test = scaler.fit([Temp_test])"
      ]
    },
    {
      "cell_type": "code",
      "execution_count": null,
      "metadata": {
        "id": "FZQ5M3BI5Mnw"
      },
      "outputs": [],
      "source": [
        "def windowed_dataset(series, window_size, batch_size, shuffle_buffer):\n",
        "    series = tf.expand_dims(series, axis=-1)\n",
        "    ds = tf.data.Dataset.from_tensor_slices(series)\n",
        "    ds = ds.window(window_size + 1, shift=1, drop_remainder=True)\n",
        "    ds = ds.flat_map(lambda w: w.batch(window_size + 1))\n",
        "    ds = ds.shuffle(shuffle_buffer)\n",
        "    ds = ds.map(lambda w: (w[:-1], w[-1:]))\n",
        "    return ds.batch(batch_size).prefetch(1)"
      ]
    },
    {
      "cell_type": "code",
      "execution_count": null,
      "metadata": {
        "id": "c-zFqSHVB67q"
      },
      "outputs": [],
      "source": [
        "train_set = windowed_dataset(Temp_train, window_size=64, batch_size=200, shuffle_buffer=1000)\n",
        "test_set = windowed_dataset(Temp_test, window_size=64, batch_size=200, shuffle_buffer=1000)\n",
        "\n",
        "\n",
        "model = Sequential()\n",
        "model.add(Bidirectional(LSTM(64, return_sequences=True))),\n",
        "model.add(Bidirectional(LSTM(64))),\n",
        "model.add(Dropout(0.5)),\n",
        "model.add(Dense(64, activation=\"relu\")),\n",
        "model.add(Dense(32, activation=\"relu\")),\n",
        "model.add(Dense(1))"
      ]
    },
    {
      "cell_type": "code",
      "source": [
        "#mencari nilai MAE 10% skala data\n",
        "Mae = (data_train['temp'].max() - data_train['temp'].min())*0.1\n",
        "print(Mae)"
      ],
      "metadata": {
        "colab": {
          "base_uri": "https://localhost:8080/"
        },
        "id": "QKZaMiAWuuMY",
        "outputId": "122d4868-0234-4389-dfb0-63c1ad952b4e"
      },
      "execution_count": null,
      "outputs": [
        {
          "output_type": "stream",
          "name": "stdout",
          "text": [
            "2.06\n"
          ]
        }
      ]
    },
    {
      "cell_type": "code",
      "execution_count": null,
      "metadata": {
        "id": "u-SZf4LoC4kb"
      },
      "outputs": [],
      "source": [
        "#Hentikan jika MAE <10% skala data\n",
        "class myCallback(tf.keras.callbacks.Callback):\n",
        "  def on_epoch_end(self, epoch, logs={}):\n",
        "    if(logs.get('mae')<2.06 and logs.get('val_mae')<2.06):\n",
        "      print(\"Anda sudah berhasil menjalankan Proyek Time Series ini. MAE model ini sudah <10%. Selamat!\")\n",
        "      self.model.stop_training = True\n",
        "callbacks = myCallback()"
      ]
    },
    {
      "cell_type": "code",
      "execution_count": null,
      "metadata": {
        "colab": {
          "base_uri": "https://localhost:8080/"
        },
        "id": "hxrThkGnCSgq",
        "outputId": "11512e5c-185a-420d-d963-99a51d73da20"
      },
      "outputs": [
        {
          "output_type": "stream",
          "name": "stdout",
          "text": [
            "Epoch 1/100\n"
          ]
        },
        {
          "output_type": "stream",
          "name": "stderr",
          "text": [
            "/usr/local/lib/python3.7/dist-packages/keras/optimizer_v2/gradient_descent.py:102: UserWarning: The `lr` argument is deprecated, use `learning_rate` instead.\n",
            "  super(SGD, self).__init__(name, **kwargs)\n"
          ]
        },
        {
          "output_type": "stream",
          "name": "stdout",
          "text": [
            "55/55 [==============================] - 15s 164ms/step - loss: 29.4826 - mae: 29.9826 - val_loss: 27.9757 - val_mae: 28.4757\n",
            "Epoch 2/100\n",
            "55/55 [==============================] - 7s 132ms/step - loss: 26.0135 - mae: 26.5135 - val_loss: 22.7501 - val_mae: 23.2501\n",
            "Epoch 3/100\n",
            "55/55 [==============================] - 8s 133ms/step - loss: 15.0621 - mae: 15.5599 - val_loss: 2.1555 - val_mae: 2.6145\n",
            "Epoch 4/100\n",
            "55/55 [==============================] - 8s 133ms/step - loss: 3.3459 - mae: 3.8186 - val_loss: 2.0186 - val_mae: 2.4723\n",
            "Epoch 5/100\n",
            "55/55 [==============================] - 8s 133ms/step - loss: 3.2254 - mae: 3.6960 - val_loss: 1.9932 - val_mae: 2.4449\n",
            "Epoch 6/100\n",
            "55/55 [==============================] - 8s 133ms/step - loss: 3.1840 - mae: 3.6556 - val_loss: 1.9762 - val_mae: 2.4267\n",
            "Epoch 7/100\n",
            "55/55 [==============================] - 8s 133ms/step - loss: 3.1095 - mae: 3.5796 - val_loss: 1.9678 - val_mae: 2.4181\n",
            "Epoch 8/100\n",
            "55/55 [==============================] - 8s 142ms/step - loss: 3.1009 - mae: 3.5713 - val_loss: 1.9566 - val_mae: 2.4062\n",
            "Epoch 9/100\n",
            "55/55 [==============================] - 8s 133ms/step - loss: 3.0539 - mae: 3.5223 - val_loss: 1.9516 - val_mae: 2.4018\n",
            "Epoch 10/100\n",
            "55/55 [==============================] - 8s 133ms/step - loss: 3.0508 - mae: 3.5212 - val_loss: 1.9285 - val_mae: 2.3773\n",
            "Epoch 11/100\n",
            "55/55 [==============================] - 8s 134ms/step - loss: 3.0180 - mae: 3.4878 - val_loss: 1.9274 - val_mae: 2.3754\n",
            "Epoch 12/100\n",
            "55/55 [==============================] - 7s 132ms/step - loss: 2.9523 - mae: 3.4207 - val_loss: 1.9124 - val_mae: 2.3603\n",
            "Epoch 13/100\n",
            "55/55 [==============================] - 8s 133ms/step - loss: 2.9062 - mae: 3.3742 - val_loss: 1.8921 - val_mae: 2.3394\n",
            "Epoch 14/100\n",
            "55/55 [==============================] - 8s 133ms/step - loss: 2.8410 - mae: 3.3084 - val_loss: 1.8653 - val_mae: 2.3123\n",
            "Epoch 15/100\n",
            "55/55 [==============================] - 8s 133ms/step - loss: 2.8216 - mae: 3.2902 - val_loss: 1.8278 - val_mae: 2.2741\n",
            "Epoch 16/100\n",
            "55/55 [==============================] - 7s 133ms/step - loss: 2.7783 - mae: 3.2449 - val_loss: 1.8209 - val_mae: 2.2671\n",
            "Epoch 17/100\n",
            "55/55 [==============================] - 8s 134ms/step - loss: 2.7275 - mae: 3.1947 - val_loss: 1.7832 - val_mae: 2.2288\n",
            "Epoch 18/100\n",
            "55/55 [==============================] - 7s 133ms/step - loss: 2.7278 - mae: 3.1943 - val_loss: 1.7383 - val_mae: 2.1842\n",
            "Epoch 19/100\n",
            "55/55 [==============================] - 8s 134ms/step - loss: 2.6544 - mae: 3.1204 - val_loss: 1.7061 - val_mae: 2.1504\n",
            "Epoch 20/100\n",
            "55/55 [==============================] - 8s 134ms/step - loss: 2.6202 - mae: 3.0853 - val_loss: 1.6578 - val_mae: 2.1028\n",
            "Epoch 21/100\n",
            "55/55 [==============================] - 8s 133ms/step - loss: 2.6029 - mae: 3.0691 - val_loss: 1.6412 - val_mae: 2.0885\n",
            "Epoch 22/100\n",
            "55/55 [==============================] - 7s 131ms/step - loss: 2.5235 - mae: 2.9855 - val_loss: 1.5226 - val_mae: 1.9654\n",
            "Epoch 23/100\n",
            "55/55 [==============================] - 8s 132ms/step - loss: 2.4449 - mae: 2.9071 - val_loss: 1.8311 - val_mae: 2.2887\n",
            "Epoch 24/100\n",
            "55/55 [==============================] - 8s 131ms/step - loss: 2.3678 - mae: 2.8305 - val_loss: 1.3096 - val_mae: 1.7448\n",
            "Epoch 25/100\n",
            "55/55 [==============================] - 7s 132ms/step - loss: 2.3296 - mae: 2.7911 - val_loss: 1.2532 - val_mae: 1.6858\n",
            "Epoch 26/100\n",
            "55/55 [==============================] - 7s 131ms/step - loss: 2.3101 - mae: 2.7714 - val_loss: 1.2282 - val_mae: 1.6669\n",
            "Epoch 27/100\n",
            "55/55 [==============================] - 7s 131ms/step - loss: 2.2724 - mae: 2.7337 - val_loss: 1.4323 - val_mae: 1.8790\n",
            "Epoch 28/100\n",
            "55/55 [==============================] - 7s 131ms/step - loss: 2.2540 - mae: 2.7149 - val_loss: 1.6764 - val_mae: 2.1377\n",
            "Epoch 29/100\n",
            "55/55 [==============================] - 8s 132ms/step - loss: 2.2405 - mae: 2.7004 - val_loss: 1.1548 - val_mae: 1.5783\n",
            "Epoch 30/100\n",
            "55/55 [==============================] - 8s 132ms/step - loss: 2.1583 - mae: 2.6189 - val_loss: 1.4638 - val_mae: 1.9147\n",
            "Epoch 31/100\n",
            "55/55 [==============================] - 8s 132ms/step - loss: 2.2090 - mae: 2.6708 - val_loss: 1.2459 - val_mae: 1.6813\n",
            "Epoch 32/100\n",
            "55/55 [==============================] - 7s 131ms/step - loss: 2.1766 - mae: 2.6369 - val_loss: 1.2521 - val_mae: 1.6898\n",
            "Epoch 33/100\n",
            "55/55 [==============================] - 8s 132ms/step - loss: 2.1494 - mae: 2.6086 - val_loss: 1.1877 - val_mae: 1.6193\n",
            "Epoch 34/100\n",
            "55/55 [==============================] - 8s 132ms/step - loss: 2.1466 - mae: 2.6046 - val_loss: 1.2486 - val_mae: 1.6857\n",
            "Epoch 35/100\n",
            "55/55 [==============================] - 8s 133ms/step - loss: 2.0899 - mae: 2.5492 - val_loss: 1.3206 - val_mae: 1.7659\n",
            "Epoch 36/100\n",
            "55/55 [==============================] - 7s 133ms/step - loss: 2.1049 - mae: 2.5634 - val_loss: 1.6549 - val_mae: 2.1179\n",
            "Epoch 37/100\n",
            "55/55 [==============================] - 8s 133ms/step - loss: 2.0912 - mae: 2.5492 - val_loss: 1.0886 - val_mae: 1.5109\n",
            "Epoch 38/100\n",
            "55/55 [==============================] - 8s 133ms/step - loss: 2.0603 - mae: 2.5178 - val_loss: 1.0583 - val_mae: 1.4747\n",
            "Epoch 39/100\n",
            "55/55 [==============================] - 8s 134ms/step - loss: 2.0464 - mae: 2.5040 - val_loss: 1.2904 - val_mae: 1.7364\n",
            "Epoch 40/100\n",
            "55/55 [==============================] - 8s 133ms/step - loss: 2.0250 - mae: 2.4807 - val_loss: 1.1066 - val_mae: 1.5339\n",
            "Epoch 41/100\n",
            "55/55 [==============================] - 8s 134ms/step - loss: 2.0325 - mae: 2.4918 - val_loss: 1.1482 - val_mae: 1.5800\n",
            "Epoch 42/100\n",
            "55/55 [==============================] - 8s 133ms/step - loss: 2.0182 - mae: 2.4758 - val_loss: 1.0971 - val_mae: 1.5248\n",
            "Epoch 43/100\n",
            "55/55 [==============================] - 8s 132ms/step - loss: 1.9902 - mae: 2.4477 - val_loss: 1.2254 - val_mae: 1.6689\n",
            "Epoch 44/100\n",
            "55/55 [==============================] - 8s 133ms/step - loss: 1.9873 - mae: 2.4438 - val_loss: 1.0038 - val_mae: 1.4205\n",
            "Epoch 45/100\n",
            "55/55 [==============================] - 7s 133ms/step - loss: 1.9842 - mae: 2.4381 - val_loss: 1.6185 - val_mae: 2.0813\n",
            "Epoch 46/100\n",
            "55/55 [==============================] - 7s 133ms/step - loss: 1.9703 - mae: 2.4256 - val_loss: 1.1843 - val_mae: 1.6258\n",
            "Epoch 47/100\n",
            "55/55 [==============================] - 8s 134ms/step - loss: 1.9753 - mae: 2.4309 - val_loss: 1.0843 - val_mae: 1.5146\n",
            "Epoch 48/100\n",
            "55/55 [==============================] - 8s 134ms/step - loss: 1.9384 - mae: 2.3916 - val_loss: 1.4141 - val_mae: 1.8691\n",
            "Epoch 49/100\n",
            "55/55 [==============================] - 8s 133ms/step - loss: 1.9311 - mae: 2.3864 - val_loss: 1.1861 - val_mae: 1.6295\n",
            "Epoch 50/100\n",
            "55/55 [==============================] - 8s 133ms/step - loss: 1.9351 - mae: 2.3907 - val_loss: 1.3563 - val_mae: 1.8101\n",
            "Epoch 51/100\n",
            "55/55 [==============================] - 8s 134ms/step - loss: 1.9087 - mae: 2.3641 - val_loss: 1.1883 - val_mae: 1.6314\n",
            "Epoch 52/100\n",
            "55/55 [==============================] - 8s 133ms/step - loss: 1.8837 - mae: 2.3385 - val_loss: 1.1207 - val_mae: 1.5583\n",
            "Epoch 53/100\n",
            "55/55 [==============================] - 8s 132ms/step - loss: 1.8920 - mae: 2.3460 - val_loss: 2.2793 - val_mae: 2.7639\n",
            "Epoch 54/100\n",
            "55/55 [==============================] - 8s 133ms/step - loss: 1.9142 - mae: 2.3677 - val_loss: 1.7103 - val_mae: 2.1777\n",
            "Epoch 55/100\n",
            "55/55 [==============================] - 8s 134ms/step - loss: 1.8978 - mae: 2.3534 - val_loss: 0.8918 - val_mae: 1.2926\n",
            "Epoch 56/100\n",
            "55/55 [==============================] - 8s 134ms/step - loss: 1.8897 - mae: 2.3429 - val_loss: 1.7041 - val_mae: 2.1715\n",
            "Epoch 57/100\n",
            "55/55 [==============================] - 7s 132ms/step - loss: 1.8478 - mae: 2.2979 - val_loss: 1.1794 - val_mae: 1.6232\n",
            "Epoch 58/100\n",
            "55/55 [==============================] - 7s 133ms/step - loss: 1.8479 - mae: 2.3010 - val_loss: 1.3044 - val_mae: 1.7571\n",
            "Epoch 59/100\n",
            "55/55 [==============================] - 8s 133ms/step - loss: 1.8313 - mae: 2.2824 - val_loss: 1.1567 - val_mae: 1.5992\n",
            "Epoch 60/100\n",
            "55/55 [==============================] - 8s 134ms/step - loss: 1.8471 - mae: 2.3010 - val_loss: 0.8984 - val_mae: 1.3024\n",
            "Epoch 61/100\n",
            "55/55 [==============================] - 8s 133ms/step - loss: 1.8402 - mae: 2.2918 - val_loss: 1.5391 - val_mae: 2.0012\n",
            "Epoch 62/100\n",
            "55/55 [==============================] - 7s 133ms/step - loss: 1.8302 - mae: 2.2813 - val_loss: 1.4107 - val_mae: 1.8689\n",
            "Epoch 63/100\n",
            "55/55 [==============================] - 7s 132ms/step - loss: 1.7913 - mae: 2.2432 - val_loss: 1.7832 - val_mae: 2.2548\n",
            "Epoch 64/100\n",
            "55/55 [==============================] - 8s 132ms/step - loss: 1.8004 - mae: 2.2535 - val_loss: 1.4504 - val_mae: 1.9096\n",
            "Epoch 65/100\n",
            "55/55 [==============================] - 8s 133ms/step - loss: 1.7672 - mae: 2.2171 - val_loss: 1.3053 - val_mae: 1.7599\n",
            "Epoch 66/100\n",
            "55/55 [==============================] - 7s 133ms/step - loss: 1.7818 - mae: 2.2328 - val_loss: 1.9996 - val_mae: 2.4797\n",
            "Epoch 67/100\n",
            "55/55 [==============================] - 8s 133ms/step - loss: 1.8073 - mae: 2.2608 - val_loss: 1.6403 - val_mae: 2.1068\n",
            "Epoch 68/100\n",
            "55/55 [==============================] - 8s 133ms/step - loss: 1.7594 - mae: 2.2110 - val_loss: 1.7504 - val_mae: 2.2213\n",
            "Epoch 69/100\n",
            "55/55 [==============================] - 8s 133ms/step - loss: 1.7482 - mae: 2.1985 - val_loss: 1.6960 - val_mae: 2.1649\n",
            "Epoch 70/100\n",
            "55/55 [==============================] - 7s 133ms/step - loss: 1.7378 - mae: 2.1900 - val_loss: 1.2607 - val_mae: 1.7133\n",
            "Epoch 71/100\n",
            "55/55 [==============================] - 8s 133ms/step - loss: 1.7560 - mae: 2.2076 - val_loss: 1.4489 - val_mae: 1.9091\n",
            "Epoch 72/100\n",
            "55/55 [==============================] - 8s 133ms/step - loss: 1.7362 - mae: 2.1873 - val_loss: 1.0639 - val_mae: 1.5018\n",
            "Epoch 73/100\n",
            "55/55 [==============================] - 7s 133ms/step - loss: 1.7588 - mae: 2.2104 - val_loss: 1.3305 - val_mae: 1.7861\n",
            "Epoch 74/100\n",
            "55/55 [==============================] - 8s 133ms/step - loss: 1.7041 - mae: 2.1541 - val_loss: 1.0750 - val_mae: 1.5141\n",
            "Epoch 75/100\n",
            "55/55 [==============================] - 7s 133ms/step - loss: 1.7455 - mae: 2.1981 - val_loss: 1.3062 - val_mae: 1.7615\n",
            "Epoch 76/100\n",
            "55/55 [==============================] - 8s 134ms/step - loss: 1.7204 - mae: 2.1714 - val_loss: 1.2917 - val_mae: 1.7461\n",
            "Epoch 77/100\n",
            "55/55 [==============================] - 8s 133ms/step - loss: 1.6907 - mae: 2.1406 - val_loss: 2.1727 - val_mae: 2.6567\n",
            "Epoch 78/100\n",
            "55/55 [==============================] - 8s 134ms/step - loss: 1.7039 - mae: 2.1536 - val_loss: 1.3815 - val_mae: 1.8391\n",
            "Epoch 79/100\n",
            "55/55 [==============================] - 8s 133ms/step - loss: 1.6830 - mae: 2.1323 - val_loss: 2.1419 - val_mae: 2.6256\n",
            "Epoch 80/100\n",
            "55/55 [==============================] - 8s 133ms/step - loss: 1.6595 - mae: 2.1081 - val_loss: 2.3376 - val_mae: 2.8233\n",
            "Epoch 81/100\n",
            "55/55 [==============================] - 8s 133ms/step - loss: 1.6892 - mae: 2.1382 - val_loss: 1.5483 - val_mae: 2.0131\n",
            "Epoch 82/100\n",
            "55/55 [==============================] - 7s 133ms/step - loss: 1.6708 - mae: 2.1191 - val_loss: 1.5179 - val_mae: 1.9816\n",
            "Epoch 83/100\n",
            "55/55 [==============================] - 8s 134ms/step - loss: 1.6519 - mae: 2.0998 - val_loss: 2.0196 - val_mae: 2.5008\n",
            "Epoch 84/100\n",
            "55/55 [==============================] - 8s 133ms/step - loss: 1.6469 - mae: 2.0950 - val_loss: 1.2346 - val_mae: 1.6878\n",
            "Epoch 85/100\n",
            "55/55 [==============================] - 8s 133ms/step - loss: 1.6702 - mae: 2.1186 - val_loss: 1.6294 - val_mae: 2.0976\n",
            "Epoch 86/100\n",
            "55/55 [==============================] - 8s 133ms/step - loss: 1.6183 - mae: 2.0667 - val_loss: 1.8335 - val_mae: 2.3092\n",
            "Epoch 87/100\n",
            "55/55 [==============================] - 7s 132ms/step - loss: 1.6620 - mae: 2.1109 - val_loss: 2.2404 - val_mae: 2.7250\n",
            "Epoch 88/100\n",
            "55/55 [==============================] - 7s 132ms/step - loss: 1.6171 - mae: 2.0649 - val_loss: 2.0327 - val_mae: 2.5143\n",
            "Epoch 89/100\n",
            "55/55 [==============================] - 8s 133ms/step - loss: 1.6012 - mae: 2.0504 - val_loss: 1.6530 - val_mae: 2.1224\n",
            "Epoch 90/100\n",
            "55/55 [==============================] - 7s 133ms/step - loss: 1.6213 - mae: 2.0689 - val_loss: 2.0905 - val_mae: 2.5734\n",
            "Epoch 91/100\n",
            "55/55 [==============================] - 8s 134ms/step - loss: 1.5675 - mae: 2.0130 - val_loss: 2.0398 - val_mae: 2.5217\n",
            "Epoch 92/100\n",
            "55/55 [==============================] - ETA: 0s - loss: 1.5716 - mae: 2.0161Anda sudah berhasil menjalankan Proyek Time Series ini. MAE model ini sudah <10%. Selamat!\n",
            "55/55 [==============================] - 7s 133ms/step - loss: 1.5716 - mae: 2.0161 - val_loss: 1.5303 - val_mae: 1.9957\n"
          ]
        }
      ],
      "source": [
        "optimizer = tf.keras.optimizers.SGD(lr=1.0000e-04, momentum=0.9)\n",
        "model.compile(loss=tf.keras.losses.Huber(),\n",
        "              optimizer=optimizer,\n",
        "              metrics=[\"mae\"])\n",
        "history = model.fit(train_set, epochs=100, validation_data = test_set, callbacks=[callbacks])"
      ]
    },
    {
      "cell_type": "code",
      "execution_count": null,
      "metadata": {
        "colab": {
          "base_uri": "https://localhost:8080/",
          "height": 295
        },
        "id": "Z-CfiuZU4IgS",
        "outputId": "b5bdccc4-34f8-4102-a0a8-9927fc9304a2"
      },
      "outputs": [
        {
          "output_type": "display_data",
          "data": {
            "text/plain": [
              "<Figure size 432x288 with 1 Axes>"
            ],
            "image/png": "[encoded data removed]"
          },
          "metadata": {
            "needs_background": "light"
          }
        }
      ],
      "source": [
        "import matplotlib.pyplot as plt\n",
        "plt.plot(history.history['loss'])\n",
        "plt.plot(history.history['val_loss'])\n",
        "plt.title('Model loss')\n",
        "plt.ylabel('Loss')\n",
        "plt.xlabel('Epoch')\n",
        "plt.legend(['Train', 'Val'], loc='upper right')\n",
        "plt.show()"
      ]
    },
    {
      "cell_type": "code",
      "execution_count": null,
      "metadata": {
        "colab": {
          "base_uri": "https://localhost:8080/",
          "height": 295
        },
        "id": "hz5f61iO4cOQ",
        "outputId": "1a32ee17-1326-4af1-f1e6-3ddf283d1de5"
      },
      "outputs": [
        {
          "output_type": "display_data",
          "data": {
            "text/plain": [
              "<Figure size 432x288 with 1 Axes>"
            ],
            "image/png": "[encoded data removed]"
          },
          "metadata": {
            "needs_background": "light"
          }
        }
      ],
      "source": [
        "import matplotlib.pyplot as plt\n",
        "plt.plot(history.history['mae'])\n",
        "plt.plot(history.history['val_mae'])\n",
        "plt.title('Model MAE')\n",
        "plt.ylabel('MAE')\n",
        "plt.xlabel('Epoch')\n",
        "plt.legend(['Train', 'Val'], loc='upper right')\n",
        "plt.show()"
      ]
    }
  ],
  "metadata": {
    "accelerator": "GPU",
    "colab": {
      "provenance": []
    },
    "kernelspec": {
      "display_name": "Python 3",
      "name": "python3"
    },
    "language_info": {
      "name": "python"
    }
  },
  "nbformat": 4,
  "nbformat_minor": 0
}